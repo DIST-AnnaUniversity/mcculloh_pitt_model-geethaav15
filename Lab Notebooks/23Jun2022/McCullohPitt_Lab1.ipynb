{
 "cells": [
  {
   "cell_type": "code",
   "execution_count": 1,
   "id": "01f527c3",
   "metadata": {},
   "outputs": [
    {
     "name": "stdout",
     "output_type": "stream",
     "text": [
      "[0 0 1] value 0\n",
      "[0 1 1] value 0\n",
      "[1 0 1] value 0\n",
      "[1 1 1] value 1\n"
     ]
    }
   ],
   "source": [
    "#McCulloh Pitt model for AND model\n",
    "import numpy as np\n",
    "\n",
    "def McAnd(x,w,t):\n",
    "    net = np.dot(x,w)\n",
    "    if net>t:\n",
    "        output = 1\n",
    "    else:\n",
    "        output = 0\n",
    "    return output\n",
    "\n",
    "x0 = np.array([0,0,1])\n",
    "x1 = np.array([0,1,1])\n",
    "x2 = np.array([1,0,1])\n",
    "x3 = np.array([1,1,1])\n",
    "w = np.array([1,1,-1])\n",
    "\n",
    "t = 0\n",
    "ans1 = McAnd(x0,w,t)\n",
    "print (x0, \"value\", ans1)\n",
    "ans2 = McAnd(x1,w,t)\n",
    "print (x1, \"value\", ans2)\n",
    "ans3 = McAnd(x2,w,t)\n",
    "print (x2, \"value\", ans3)\n",
    "ans4 = McAnd(x3,w,t)\n",
    "print (x3, \"value\", ans4)"
   ]
  },
  {
   "cell_type": "code",
   "execution_count": 2,
   "id": "d7906036",
   "metadata": {},
   "outputs": [
    {
     "name": "stdout",
     "output_type": "stream",
     "text": [
      "[0 0 1] value -1\n",
      "[0 1 1] value 1\n",
      "[1 0 1] value 1\n",
      "[1 1 1] value 1\n"
     ]
    }
   ],
   "source": [
    "## MP-OR\n",
    "import numpy as np\n",
    "def McOR(x,w,t):\n",
    "    net = np.dot(x,w)\n",
    "    #Using Bipolar Activation\n",
    "    if net>t:\n",
    "        output = 1\n",
    "    else:\n",
    "        output = -1\n",
    "    return output\n",
    "\n",
    "#inputs and weights\n",
    "x0 = np.array([0,0,1])\n",
    "x1 = np.array([0,1,1])\n",
    "x2 = np.array([1,0,1])\n",
    "x3 = np.array([1,1,1])\n",
    "w = np.array([2,2,-1])\n",
    "\n",
    "t = 0 #threshold\n",
    "\n",
    "\n",
    "#verifying the output\n",
    "ans1 = McOR(x0,w,t)\n",
    "print (x0, \"value\", ans1)\n",
    "ans2 = McOR(x1,w,t)\n",
    "print (x1, \"value\", ans2)\n",
    "ans3 = McOR(x2,w,t)\n",
    "print (x2, \"value\", ans3)\n",
    "ans4 = McOR(x3,w,t)\n",
    "print (x3, \"value\", ans4)"
   ]
  },
  {
   "cell_type": "code",
   "execution_count": 3,
   "id": "9c68542b",
   "metadata": {},
   "outputs": [
    {
     "name": "stdout",
     "output_type": "stream",
     "text": [
      "[0 1] value 1\n",
      "[1 1] value 0\n"
     ]
    }
   ],
   "source": [
    "## MP-NOT\n",
    "import numpy as np\n",
    "def McNot(x,w,t):\n",
    "    #Using Sigmoidal Activation\n",
    "    net = np.dot(x,w);\n",
    "    out = 1/(1+np.exp(-0.1*net));\n",
    "    if out>t:\n",
    "        output = 1\n",
    "    else:\n",
    "        output = 0\n",
    "    return output\n",
    "\n",
    "#inputs and weights\n",
    "x0 = np.array([0,1])\n",
    "x1 = np.array([1,1])\n",
    "w = np.array([-1,1])\n",
    "\n",
    "\n",
    "t = 0.5 #threshold\n",
    "\n",
    "#verifying the output\n",
    "ans1 = McNot(x0,w,t)\n",
    "print (x0, \"value\", ans1)\n",
    "ans2 = McNot(x1,w,t)\n",
    "print (x1, \"value\", ans2)"
   ]
  },
  {
   "cell_type": "code",
   "execution_count": null,
   "id": "dd1fcdf0",
   "metadata": {},
   "outputs": [],
   "source": []
  }
 ],
 "metadata": {
  "kernelspec": {
   "display_name": "Python 3.9.12 ('base')",
   "language": "python",
   "name": "python3"
  },
  "language_info": {
   "codemirror_mode": {
    "name": "ipython",
    "version": 3
   },
   "file_extension": ".py",
   "mimetype": "text/x-python",
   "name": "python",
   "nbconvert_exporter": "python",
   "pygments_lexer": "ipython3",
   "version": "3.9.12"
  },
  "vscode": {
   "interpreter": {
    "hash": "40d3a090f54c6569ab1632332b64b2c03c39dcf918b08424e98f38b5ae0af88f"
   }
  }
 },
 "nbformat": 4,
 "nbformat_minor": 5
}
