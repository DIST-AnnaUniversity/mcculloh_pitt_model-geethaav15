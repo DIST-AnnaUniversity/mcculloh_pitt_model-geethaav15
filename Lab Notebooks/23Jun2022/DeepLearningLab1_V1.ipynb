{
 "cells": [
  {
   "cell_type": "code",
   "execution_count": 1,
   "id": "8c779019",
   "metadata": {},
   "outputs": [
    {
     "name": "stdout",
     "output_type": "stream",
     "text": [
      "Requirement already satisfied: numpy in c:\\users\\priya\\appdata\\local\\programs\\python\\python310\\lib\\site-packages (1.23.0)\n",
      "\n",
      "[notice] A new release of pip available: 22.1.2 -> 22.2\n",
      "[notice] To update, run: python.exe -m pip install --upgrade pip\n",
      "Requirement already satisfied: pandas in c:\\users\\priya\\appdata\\local\\programs\\python\\python310\\lib\\site-packages (1.4.3)\n",
      "Requirement already satisfied: pytz>=2020.1 in c:\\users\\priya\\appdata\\local\\programs\\python\\python310\\lib\\site-packages (from pandas) (2022.1)\n",
      "Requirement already satisfied: numpy>=1.21.0 in c:\\users\\priya\\appdata\\local\\programs\\python\\python310\\lib\\site-packages (from pandas) (1.23.0)\n",
      "Requirement already satisfied: python-dateutil>=2.8.1 in c:\\users\\priya\\appdata\\local\\programs\\python\\python310\\lib\\site-packages (from pandas) (2.8.2)\n",
      "Requirement already satisfied: six>=1.5 in c:\\users\\priya\\appdata\\local\\programs\\python\\python310\\lib\\site-packages (from python-dateutil>=2.8.1->pandas) (1.16.0)\n",
      "\n",
      "[notice] A new release of pip available: 22.1.2 -> 22.2\n",
      "[notice] To update, run: python.exe -m pip install --upgrade pip\n"
     ]
    }
   ],
   "source": [
    "!pip install numpy\n",
    "!pip install pandas"
   ]
  },
  {
   "cell_type": "code",
   "execution_count": 2,
   "id": "a3127df1",
   "metadata": {},
   "outputs": [],
   "source": [
    "import numpy as np"
   ]
  },
  {
   "cell_type": "markdown",
   "id": "7933e643",
   "metadata": {},
   "source": [
    "## Array creation using the array() function of NumPy"
   ]
  },
  {
   "cell_type": "code",
   "execution_count": 3,
   "id": "16679063",
   "metadata": {},
   "outputs": [
    {
     "name": "stdout",
     "output_type": "stream",
     "text": [
      "[[1 2 3]\n",
      " [3 4 5]\n",
      " [6 7 8]]\n",
      "[[4 5 8]\n",
      " [9 6 2]\n",
      " [3 2 6]]\n",
      "[[4 9]\n",
      " [3 6]\n",
      " [2 5]]\n"
     ]
    }
   ],
   "source": [
    "a = np.array([[1, 2, 3],[3,4, 5],[6,7,8]])\n",
    "b = np.array ([[4,5,8],[9,6,2],[3,2,6]])\n",
    "c = np.array([[4,9],[3,6],[2,5]])\n",
    "print(a)\n",
    "print(b)\n",
    "print(c)"
   ]
  },
  {
   "cell_type": "code",
   "execution_count": 4,
   "id": "0af3cb60",
   "metadata": {},
   "outputs": [
    {
     "name": "stdout",
     "output_type": "stream",
     "text": [
      "a's axes:  2\n",
      "b's shape:  (3, 3)\n",
      "c's size:  6\n",
      "a's data type:  int32\n"
     ]
    }
   ],
   "source": [
    "#axes\n",
    "print('a\\'s axes: ',a.ndim)\n",
    "#shape\n",
    "print('b\\'s shape: ',b.shape)\n",
    "#size\n",
    "print('c\\'s size: ',c.size)\n",
    "#data type\n",
    "print ('a\\'s data type: ',a.dtype)"
   ]
  },
  {
   "cell_type": "code",
   "execution_count": 5,
   "id": "896d8c83",
   "metadata": {},
   "outputs": [
    {
     "data": {
      "text/plain": [
       "array([[1, 1, 1, 1, 1],\n",
       "       [1, 1, 1, 1, 1],\n",
       "       [1, 1, 1, 1, 1]], dtype=int64)"
      ]
     },
     "execution_count": 5,
     "metadata": {},
     "output_type": "execute_result"
    }
   ],
   "source": [
    "# creating a array of ones\n",
    "d = np.ones((3,5), dtype=np.int64)\n",
    "d"
   ]
  },
  {
   "cell_type": "code",
   "execution_count": 6,
   "id": "25206cda",
   "metadata": {},
   "outputs": [
    {
     "data": {
      "text/plain": [
       "array([[0, 0, 0, 0, 0],\n",
       "       [0, 0, 0, 0, 0],\n",
       "       [0, 0, 0, 0, 0]], dtype=int64)"
      ]
     },
     "execution_count": 6,
     "metadata": {},
     "output_type": "execute_result"
    }
   ],
   "source": [
    "# creating a array of zeros\n",
    "e= np.zeros((3,5), dtype=np.int64)\n",
    "e"
   ]
  },
  {
   "cell_type": "code",
   "execution_count": 7,
   "id": "0d7827f5",
   "metadata": {},
   "outputs": [
    {
     "data": {
      "text/plain": [
       "array([[1, 0, 0, 0, 0],\n",
       "       [0, 1, 0, 0, 0],\n",
       "       [0, 0, 1, 0, 0],\n",
       "       [0, 0, 0, 1, 0],\n",
       "       [0, 0, 0, 0, 1]], dtype=int64)"
      ]
     },
     "execution_count": 7,
     "metadata": {},
     "output_type": "execute_result"
    }
   ],
   "source": [
    "#creating identity matrix\n",
    "f=np.identity(5, dtype=np.int64)\n",
    "f"
   ]
  },
  {
   "cell_type": "code",
   "execution_count": 8,
   "id": "1f36bbfd",
   "metadata": {},
   "outputs": [
    {
     "data": {
      "text/plain": [
       "array([[1, 0, 0, 0],\n",
       "       [0, 1, 0, 0],\n",
       "       [0, 0, 1, 0],\n",
<<<<<<< HEAD
       "       [0, 0, 0, 1]], dtype=int64)"
=======
       "       [0, 0, 0, 1]])"
>>>>>>> 62d1d4f54579000795ebd88ef42550aa54ba88e5
      ]
     },
     "execution_count": 8,
     "metadata": {},
     "output_type": "execute_result"
    }
   ],
   "source": [
    "#eye function with varying diagonals\n",
    "g=np.eye(4, dtype=np.int64)\n",
    "g"
   ]
  },
  {
   "cell_type": "code",
   "execution_count": 9,
   "id": "88115db1",
   "metadata": {},
   "outputs": [
    {
     "data": {
      "text/plain": [
       "array([[1, 0, 0, 0],\n",
       "       [0, 1, 0, 0],\n",
       "       [0, 0, 1, 0],\n",
       "       [0, 0, 0, 1]], dtype=int64)"
      ]
     },
     "execution_count": 9,
     "metadata": {},
     "output_type": "execute_result"
    }
   ],
   "source": [
    "#eye function with varying diagonals\n",
    "g1=np.eye(4,k=0,dtype=np.int64)\n",
    "g1"
   ]
  },
  {
   "cell_type": "code",
   "execution_count": 10,
   "id": "4ecd67b7",
   "metadata": {},
   "outputs": [
    {
     "data": {
      "text/plain": [
       "array([[0, 1, 0, 0],\n",
       "       [0, 0, 1, 0],\n",
       "       [0, 0, 0, 1],\n",
       "       [0, 0, 0, 0]], dtype=int64)"
      ]
     },
     "execution_count": 10,
     "metadata": {},
     "output_type": "execute_result"
    }
   ],
   "source": [
    "h=np.eye(4,k=1, dtype=np.int64)\n",
    "h"
   ]
  },
  {
   "cell_type": "code",
   "execution_count": 11,
   "id": "308a2dbd",
   "metadata": {},
   "outputs": [
    {
     "data": {
      "text/plain": [
       "array([[0, 0, 0, 0],\n",
       "       [1, 0, 0, 0],\n",
       "       [0, 1, 0, 0],\n",
       "       [0, 0, 1, 0]], dtype=int64)"
      ]
     },
     "execution_count": 11,
     "metadata": {},
     "output_type": "execute_result"
    }
   ],
   "source": [
    "i=np.eye(4, k=-1,dtype=np.int64)\n",
    "i"
   ]
  },
  {
   "cell_type": "code",
   "execution_count": 12,
   "id": "7c5ce830",
   "metadata": {},
   "outputs": [
    {
     "data": {
      "text/plain": [
       "array([[0, 0],\n",
       "       [1, 0],\n",
       "       [0, 1],\n",
       "       [0, 0]], dtype=int64)"
      ]
     },
     "execution_count": 12,
     "metadata": {},
     "output_type": "execute_result"
    }
   ],
   "source": [
    "j=np.eye(4,2, k=-1,dtype=np.int64)\n",
    "j"
   ]
  },
  {
   "cell_type": "markdown",
   "id": "4b0f63e7",
   "metadata": {},
   "source": [
    "## Creating Vectors"
   ]
  },
  {
   "cell_type": "code",
   "execution_count": 13,
   "id": "89b8177c",
   "metadata": {},
   "outputs": [
    {
     "data": {
      "text/plain": [
       "array([1, 2, 3])"
      ]
     },
     "execution_count": 13,
     "metadata": {},
     "output_type": "execute_result"
    }
   ],
   "source": [
    "#Row Vector\n",
    "vecA = np.array([1,2,3])\n",
    "vecA"
   ]
  },
  {
   "cell_type": "code",
   "execution_count": 14,
   "id": "d2884537",
   "metadata": {},
   "outputs": [
    {
     "data": {
      "text/plain": [
       "array([[1],\n",
       "       [2],\n",
       "       [3]])"
      ]
     },
     "execution_count": 14,
     "metadata": {},
     "output_type": "execute_result"
    }
   ],
   "source": [
    "#Column Vector\n",
    "vecB = np.array([[1],[2],[3]])\n",
    "vecB"
   ]
  },
  {
   "cell_type": "markdown",
   "id": "2c492b6c",
   "metadata": {},
   "source": [
    "## Matrix Addition, Subtraction, Multiplication"
   ]
  },
  {
   "cell_type": "code",
   "execution_count": 15,
   "id": "43717878",
   "metadata": {},
   "outputs": [
    {
     "name": "stdout",
     "output_type": "stream",
     "text": [
      "[[1 2 3]\n",
      " [3 4 5]\n",
      " [6 7 8]]\n",
      "[[4 5 8]\n",
      " [9 6 2]\n",
      " [3 2 6]]\n",
      "[[ 5  7 11]\n",
      " [12 10  7]\n",
      " [ 9  9 14]]\n"
     ]
    }
   ],
   "source": [
    "add = np.add(a,b)\n",
    "print(a)\n",
    "print (b)\n",
    "print(add)"
   ]
  },
  {
   "cell_type": "code",
   "execution_count": 16,
   "id": "2de398f0",
   "metadata": {},
   "outputs": [
    {
     "name": "stdout",
     "output_type": "stream",
     "text": [
      "[[1 2 3]\n",
      " [3 4 5]\n",
      " [6 7 8]]\n",
      "[[4 5 8]\n",
      " [9 6 2]\n",
      " [3 2 6]]\n",
      "[[-3 -3 -5]\n",
      " [-6 -2  3]\n",
      " [ 3  5  2]]\n"
     ]
    }
   ],
   "source": [
    "sub = np.subtract(a,b)\n",
    "print(a)\n",
    "print (b)\n",
    "print(sub)"
   ]
  },
  {
   "cell_type": "code",
   "execution_count": 17,
   "id": "a5522bbb",
   "metadata": {},
   "outputs": [
    {
     "name": "stdout",
     "output_type": "stream",
     "text": [
      "[[1 2 3]\n",
      " [3 4 5]\n",
      " [6 7 8]]\n",
      "[[4 5 8]\n",
      " [9 6 2]\n",
      " [3 2 6]]\n",
      "[[ 4 10 24]\n",
      " [27 24 10]\n",
      " [18 14 48]]\n"
     ]
    }
   ],
   "source": [
    "mult = np.multiply(a,b)\n",
    "print(a)\n",
    "print (b)\n",
    "print(mult)"
   ]
  },
  {
   "cell_type": "markdown",
   "id": "c5b81421",
   "metadata": {},
   "source": [
    "## Matrix Multiplication Using Dot Function"
   ]
  },
  {
   "cell_type": "code",
   "execution_count": 18,
   "id": "99e67f8f",
   "metadata": {},
   "outputs": [
    {
     "name": "stdout",
     "output_type": "stream",
     "text": [
      "[[1 2 3]\n",
      " [3 4 5]\n",
      " [6 7 8]]\n",
      "[[4 9]\n",
      " [3 6]\n",
      " [2 5]]\n",
      "[[ 16  36]\n",
      " [ 34  76]\n",
      " [ 61 136]]\n"
     ]
    }
   ],
   "source": [
    "d2 = np.dot(a,c)\n",
    "print(a)\n",
    "print (c)\n",
    "print(d2)"
   ]
  },
  {
   "attachments": {
    "Screenshot-2020-09-14-at-2.19.00-PM.png": {
     "image/png": "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"
    }
   },
   "cell_type": "markdown",
   "id": "34d2910a",
   "metadata": {},
   "source": [
    "## Tensors Using Numpy\n",
    "![Screenshot-2020-09-14-at-2.19.00-PM.png](attachment:Screenshot-2020-09-14-at-2.19.00-PM.png)"
   ]
  },
  {
   "cell_type": "markdown",
   "id": "ca9e5912",
   "metadata": {},
   "source": [
    "### tensors are a generalization of matrices and are represented using n-dimensional arrays."
   ]
  },
  {
   "cell_type": "markdown",
   "id": "d80aee87",
   "metadata": {},
   "source": [
    "## A tensor can be defined in-line to the constructor of array() as a list of lists."
   ]
  },
  {
   "cell_type": "code",
   "execution_count": 19,
   "id": "eda4dc5f",
   "metadata": {},
   "outputs": [
    {
     "name": "stdout",
     "output_type": "stream",
     "text": [
      "[[1 2 3]\n",
      " [3 4 5]\n",
      " [6 7 8]]\n",
      "[[4 5 8]\n",
      " [9 6 2]\n",
      " [3 2 6]]\n",
      "[[ 5  7 11]\n",
      " [12 10  7]\n",
      " [ 9  9 14]]\n"
     ]
    }
   ],
   "source": [
    "#Tensor Addition\n",
    "T1=a+b\n",
    "print(a)\n",
    "print(b)\n",
    "print(T1)"
   ]
  },
  {
   "cell_type": "code",
   "execution_count": 20,
   "id": "3f3d3022",
   "metadata": {},
   "outputs": [
    {
     "name": "stdout",
     "output_type": "stream",
     "text": [
      "[[1 2 3]\n",
      " [3 4 5]\n",
      " [6 7 8]]\n",
      "[[4 5 8]\n",
      " [9 6 2]\n",
      " [3 2 6]]\n",
      "[[-3 -3 -5]\n",
      " [-6 -2  3]\n",
      " [ 3  5  2]]\n"
     ]
    }
   ],
   "source": [
    "#Tensor subtraction\n",
    "T2=a-b\n",
    "print(a)\n",
    "print(b)\n",
    "print(T2)"
   ]
  },
  {
   "cell_type": "code",
   "execution_count": 21,
   "id": "ddbe8516",
   "metadata": {},
   "outputs": [
    {
     "name": "stdout",
     "output_type": "stream",
     "text": [
      "[[1 2 3]\n",
      " [3 4 5]\n",
      " [6 7 8]]\n",
      "[[4 5 8]\n",
      " [9 6 2]\n",
      " [3 2 6]]\n",
      "[[ 4 10 24]\n",
      " [27 24 10]\n",
      " [18 14 48]]\n"
     ]
    }
   ],
   "source": [
    "# Tensor Hadamard Product\n",
    "T3=a*b\n",
    "print(a)\n",
    "print(b)\n",
    "print(T3)"
   ]
  },
  {
   "cell_type": "code",
   "execution_count": 22,
   "id": "5b88bb0a",
   "metadata": {},
   "outputs": [
    {
     "name": "stdout",
     "output_type": "stream",
     "text": [
      "[[1 2 3]\n",
      " [3 4 5]\n",
      " [6 7 8]]\n",
      "[[4 5 8]\n",
      " [9 6 2]\n",
      " [3 2 6]]\n",
      "[[0.25       0.4        0.375     ]\n",
      " [0.33333333 0.66666667 2.5       ]\n",
      " [2.         3.5        1.33333333]]\n"
     ]
    }
   ],
   "source": [
    "#Tensor Division\n",
    "T4=a/b\n",
    "print(a)\n",
    "print(b)\n",
    "print(T4)"
   ]
  },
  {
   "cell_type": "code",
   "execution_count": 23,
   "id": "df10b952",
   "metadata": {},
   "outputs": [
    {
     "name": "stdout",
     "output_type": "stream",
     "text": [
      "[[1 2 3]\n",
      " [3 4 5]\n",
      " [6 7 8]]\n",
      "[[4 5 8]\n",
      " [9 6 2]\n",
      " [3 2 6]]\n",
      "[[[[ 4  5  8]\n",
      "   [ 9  6  2]\n",
      "   [ 3  2  6]]\n",
      "\n",
      "  [[ 8 10 16]\n",
      "   [18 12  4]\n",
      "   [ 6  4 12]]\n",
      "\n",
      "  [[12 15 24]\n",
      "   [27 18  6]\n",
      "   [ 9  6 18]]]\n",
      "\n",
      "\n",
      " [[[12 15 24]\n",
      "   [27 18  6]\n",
      "   [ 9  6 18]]\n",
      "\n",
      "  [[16 20 32]\n",
      "   [36 24  8]\n",
      "   [12  8 24]]\n",
      "\n",
      "  [[20 25 40]\n",
      "   [45 30 10]\n",
      "   [15 10 30]]]\n",
      "\n",
      "\n",
      " [[[24 30 48]\n",
      "   [54 36 12]\n",
      "   [18 12 36]]\n",
      "\n",
      "  [[28 35 56]\n",
      "   [63 42 14]\n",
      "   [21 14 42]]\n",
      "\n",
      "  [[32 40 64]\n",
      "   [72 48 16]\n",
      "   [24 16 48]]]]\n"
     ]
    }
   ],
   "source": [
    "#Tensor product\n",
    "#Given a tensor A with q dimensions and tensor B with r dimensions, \n",
    "#the product of these tensors will be a new tensor with the order of q + r or, said another way, q + r dimensions.\n",
    "T5=np.tensordot(a,b,axes=0)\n",
    "print(a)\n",
    "print(b)\n",
    "print(T5)\n"
   ]
  }
 ],
 "metadata": {
  "kernelspec": {
<<<<<<< HEAD
   "display_name": "Python 3.10.5 64-bit",
=======
   "display_name": "Python 3.9.12 ('base')",
>>>>>>> 62d1d4f54579000795ebd88ef42550aa54ba88e5
   "language": "python",
   "name": "python3"
  },
  "language_info": {
   "codemirror_mode": {
    "name": "ipython",
    "version": 3
   },
   "file_extension": ".py",
   "mimetype": "text/x-python",
   "name": "python",
   "nbconvert_exporter": "python",
   "pygments_lexer": "ipython3",
<<<<<<< HEAD
   "version": "3.10.5"
  },
  "vscode": {
   "interpreter": {
    "hash": "84acd9daa1976748b0cb1aac2d1d7e831b987877e0682bbd8df981985727d27e"
=======
   "version": "3.9.12"
  },
  "vscode": {
   "interpreter": {
    "hash": "40d3a090f54c6569ab1632332b64b2c03c39dcf918b08424e98f38b5ae0af88f"
>>>>>>> 62d1d4f54579000795ebd88ef42550aa54ba88e5
   }
  }
 },
 "nbformat": 4,
 "nbformat_minor": 5
}
